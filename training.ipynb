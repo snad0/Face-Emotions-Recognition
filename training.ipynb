{
 "cells": [
  {
   "cell_type": "code",
   "execution_count": 1,
   "id": "e69d759a",
   "metadata": {},
   "outputs": [],
   "source": [
    "import tensorflow as tf\n",
    "import numpy as np\n",
    "import cv2\n",
    "import os\n",
    "from tensorflow.keras.preprocessing.image import img_to_array\n",
    "from tensorflow.keras.applications.mobilenet_v2 import preprocess_input\n",
    "from tensorflow.keras.preprocessing.image import load_img\n",
    "import matplotlib.pyplot as plt\n",
    "from sklearn.preprocessing import LabelBinarizer\n",
    "from tensorflow.keras.utils import to_categorical"
   ]
  },
  {
   "cell_type": "code",
   "execution_count": 2,
   "id": "5d353530",
   "metadata": {},
   "outputs": [],
   "source": [
    "classes=['angry','happy','neutral','sad','surprise']\n",
    "Directory = os.path.join(\"images/training\")\n"
   ]
  },
  {
   "cell_type": "code",
   "execution_count": 3,
   "id": "9eccafca",
   "metadata": {},
   "outputs": [],
   "source": [
    "training_data=[]\n",
    "def create_training_data():\n",
    "  for category in classes:\n",
    "    path= os.path.join(Directory,category)\n",
    "    class_num=classes.index(category)\n",
    "    for img in os.listdir(path):\n",
    "      try:\n",
    "        img_array= cv2.imread(os.path.join(path,img))\n",
    "        new_array= cv2.resize(img_array,(224,224))\n",
    "        training_data.append([new_array,class_num])\n",
    "      except:\n",
    "        pass"
   ]
  },
  {
   "cell_type": "code",
   "execution_count": 4,
   "id": "8a9f7b45",
   "metadata": {},
   "outputs": [],
   "source": [
    "create_training_data()"
   ]
  },
  {
   "cell_type": "code",
   "execution_count": 5,
   "id": "edafa9ca",
   "metadata": {},
   "outputs": [],
   "source": [
    "import random\n",
    "random.shuffle(training_data)"
   ]
  },
  {
   "cell_type": "code",
   "execution_count": 6,
   "id": "a3528f4d",
   "metadata": {},
   "outputs": [],
   "source": [
    "X=[]\n",
    "Y=[]\n",
    "\n",
    "for features, label in training_data:\n",
    "  X.append(features)\n",
    "  Y.append(label)\n",
    "\n",
    "X= np.array(X).reshape(-1, 224,224,3)"
   ]
  },
  {
   "cell_type": "code",
   "execution_count": 7,
   "id": "7fc9e22c",
   "metadata": {},
   "outputs": [],
   "source": [
    "X=X[:4000]"
   ]
  },
  {
   "cell_type": "code",
   "execution_count": 8,
   "id": "6e3e470e",
   "metadata": {},
   "outputs": [],
   "source": [
    "X=X/255.0"
   ]
  },
  {
   "cell_type": "code",
   "execution_count": 9,
   "id": "96df4bdc",
   "metadata": {},
   "outputs": [],
   "source": [
    "Y=np.array(Y)"
   ]
  },
  {
   "cell_type": "code",
   "execution_count": 10,
   "id": "517ae372",
   "metadata": {},
   "outputs": [
    {
     "data": {
      "text/plain": [
       "(4000,)"
      ]
     },
     "execution_count": 10,
     "metadata": {},
     "output_type": "execute_result"
    }
   ],
   "source": [
    "Y=Y[:4000]\n",
    "Y.shape"
   ]
  },
  {
   "cell_type": "code",
   "execution_count": 11,
   "id": "e98b3482",
   "metadata": {},
   "outputs": [],
   "source": [
    "from tensorflow import keras\n",
    "from tensorflow.keras import layers\n",
    "from tensorflow.keras.layers import Input\n",
    "from tensorflow.keras.layers import AveragePooling2D\n",
    "from tensorflow.keras.layers import Flatten\n",
    "from tensorflow.keras.layers import Dense\n",
    "from tensorflow.keras.layers import Input"
   ]
  },
  {
   "cell_type": "code",
   "execution_count": 12,
   "id": "dbac3562",
   "metadata": {},
   "outputs": [],
   "source": [
    "model=tf.keras.applications.MobileNetV2()"
   ]
  },
  {
   "cell_type": "code",
   "execution_count": 13,
   "id": "6b98eefb",
   "metadata": {},
   "outputs": [],
   "source": [
    "base_input = model.layers[0].input\n",
    "base_output = model.layers[-2].output\n",
    "headModel = Dense(128, activation=\"relu\")(base_output)\n",
    "headModel = Dense(64, activation=\"relu\")(headModel)\n",
    "# headModel = Dropout(0.5)(headModel)  #to avoid overfit\n",
    "headModel = Dense(5, activation=\"softmax\")(headModel)"
   ]
  },
  {
   "cell_type": "code",
   "execution_count": 14,
   "id": "a474809e",
   "metadata": {},
   "outputs": [],
   "source": [
    "from tensorflow.keras.models import Model\n",
    "model = Model(inputs=base_input, outputs=headModel)"
   ]
  },
  {
   "cell_type": "code",
   "execution_count": 15,
   "id": "35fcdc0a",
   "metadata": {},
   "outputs": [],
   "source": [
    "model.compile(loss=\"sparse_categorical_crossentropy\", optimizer='adam',\n",
    "    metrics=[\"accuracy\"])"
   ]
  },
  {
   "cell_type": "code",
   "execution_count": 20,
   "id": "49f50271",
   "metadata": {},
   "outputs": [
    {
     "name": "stdout",
     "output_type": "stream",
     "text": [
      "Epoch 1/3\n",
      "125/125 [==============================] - 595s 5s/step - loss: 0.3130 - accuracy: 0.8882\n",
      "Epoch 2/3\n",
      "125/125 [==============================] - 545s 4s/step - loss: 0.2970 - accuracy: 0.8905\n",
      "Epoch 3/3\n",
      "125/125 [==============================] - 547s 4s/step - loss: 0.2314 - accuracy: 0.9212\n"
     ]
    }
   ],
   "source": [
    "H = model.fit(X, Y,\n",
    "\tepochs=3)"
   ]
  },
  {
   "cell_type": "code",
   "execution_count": 21,
   "id": "c33d9a25",
   "metadata": {},
   "outputs": [],
   "source": [
    "    model.save(\"model.h5\") "
   ]
  },
  {
   "cell_type": "code",
   "execution_count": 22,
   "id": "9af0fc4a",
   "metadata": {},
   "outputs": [],
   "source": []
  }
 ],
 "metadata": {
  "kernelspec": {
   "display_name": "Python 3 (ipykernel)",
   "language": "python",
   "name": "python3"
  },
  "language_info": {
   "codemirror_mode": {
    "name": "ipython",
    "version": 3
   },
   "file_extension": ".py",
   "mimetype": "text/x-python",
   "name": "python",
   "nbconvert_exporter": "python",
   "pygments_lexer": "ipython3",
   "version": "3.10.1"
  }
 },
 "nbformat": 4,
 "nbformat_minor": 5
}
